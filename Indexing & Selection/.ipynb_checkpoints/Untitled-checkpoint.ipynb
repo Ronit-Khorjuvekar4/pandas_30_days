{
 "cells": [
  {
   "cell_type": "code",
   "execution_count": null,
   "id": "d6751dfc-0760-42f9-aa11-9f611f85e983",
   "metadata": {},
   "outputs": [],
   "source": [
    "import pandas as pd\n",
    "import numpy as np"
   ]
  },
  {
   "cell_type": "code",
   "execution_count": null,
   "id": "391cf5de-0e8d-455c-be38-cd0d6968b071",
   "metadata": {},
   "outputs": [],
   "source": [
    "df = pd.read_csv(\"stud.csv\")"
   ]
  },
  {
   "cell_type": "code",
   "execution_count": null,
   "id": "03a7df67-40de-4bc7-af0e-3ab44d8f2400",
   "metadata": {},
   "outputs": [],
   "source": [
    "print(df)"
   ]
  },
  {
   "cell_type": "code",
   "execution_count": null,
   "id": "9555a430-f1fb-4343-aeb3-8588cfbc5677",
   "metadata": {},
   "outputs": [],
   "source": []
  }
 ],
 "metadata": {
  "kernelspec": {
   "display_name": "Python 3 (ipykernel)",
   "language": "python",
   "name": "python3"
  },
  "language_info": {
   "codemirror_mode": {
    "name": "ipython",
    "version": 3
   },
   "file_extension": ".py",
   "mimetype": "text/x-python",
   "name": "python",
   "nbconvert_exporter": "python",
   "pygments_lexer": "ipython3",
   "version": "3.13.7"
  }
 },
 "nbformat": 4,
 "nbformat_minor": 5
}
