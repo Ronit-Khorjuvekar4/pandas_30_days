{
 "cells": [
  {
   "cell_type": "code",
   "execution_count": 286,
   "id": "f84e319a-3b14-4336-8b7e-11e7bc923c74",
   "metadata": {},
   "outputs": [],
   "source": [
    "import pandas as pd"
   ]
  },
  {
   "cell_type": "code",
   "execution_count": 287,
   "id": "7db9436e-4253-4130-8c6c-c119b072d496",
   "metadata": {},
   "outputs": [],
   "source": [
    "df = pd.read_csv(\"raw_data.csv\",names=[\"combined_a\"], header=None)"
   ]
  },
  {
   "cell_type": "code",
   "execution_count": 288,
   "id": "79e3e9fe-7d3f-40c2-870b-b1876876d27f",
   "metadata": {},
   "outputs": [
    {
     "data": {
      "text/html": [
       "<div>\n",
       "<style scoped>\n",
       "    .dataframe tbody tr th:only-of-type {\n",
       "        vertical-align: middle;\n",
       "    }\n",
       "\n",
       "    .dataframe tbody tr th {\n",
       "        vertical-align: top;\n",
       "    }\n",
       "\n",
       "    .dataframe thead th {\n",
       "        text-align: right;\n",
       "    }\n",
       "</style>\n",
       "<table border=\"1\" class=\"dataframe\">\n",
       "  <thead>\n",
       "    <tr style=\"text-align: right;\">\n",
       "      <th></th>\n",
       "      <th>combined_a</th>\n",
       "    </tr>\n",
       "  </thead>\n",
       "  <tbody>\n",
       "    <tr>\n",
       "      <th>0</th>\n",
       "      <td>order_id | order_status    | customer        ...</td>\n",
       "    </tr>\n",
       "    <tr>\n",
       "      <th>1</th>\n",
       "      <td>+----------+-----------------+----------------...</td>\n",
       "    </tr>\n",
       "    <tr>\n",
       "      <th>2</th>\n",
       "      <td>|        3 | Order Finished  | Muhammed MacInt...</td>\n",
       "    </tr>\n",
       "    <tr>\n",
       "      <th>3</th>\n",
       "      <td>|      293 | Order Finished  | Barry French   ...</td>\n",
       "    </tr>\n",
       "    <tr>\n",
       "      <th>4</th>\n",
       "      <td>|      483 | Order Finished  | Clay Rozendal  ...</td>\n",
       "    </tr>\n",
       "    <tr>\n",
       "      <th>...</th>\n",
       "      <td>...</td>\n",
       "    </tr>\n",
       "    <tr>\n",
       "      <th>5497</th>\n",
       "      <td>|    52706 | Order Finished  | Paul Prost     ...</td>\n",
       "    </tr>\n",
       "    <tr>\n",
       "      <th>5498</th>\n",
       "      <td>|    54279 | Order Finished  | Lisa DeCherney ...</td>\n",
       "    </tr>\n",
       "    <tr>\n",
       "      <th>5499</th>\n",
       "      <td>|    55558 | Order Finished  | Philip Brown   ...</td>\n",
       "    </tr>\n",
       "    <tr>\n",
       "      <th>5500</th>\n",
       "      <td>|    56581 | Order Finished  | Lisa DeCherney ...</td>\n",
       "    </tr>\n",
       "    <tr>\n",
       "      <th>5501</th>\n",
       "      <td>+----------+-----------------+----------------...</td>\n",
       "    </tr>\n",
       "  </tbody>\n",
       "</table>\n",
       "<p>5502 rows × 1 columns</p>\n",
       "</div>"
      ],
      "text/plain": [
       "                                             combined_a\n",
       "0      order_id | order_status    | customer        ...\n",
       "1     +----------+-----------------+----------------...\n",
       "2     |        3 | Order Finished  | Muhammed MacInt...\n",
       "3     |      293 | Order Finished  | Barry French   ...\n",
       "4     |      483 | Order Finished  | Clay Rozendal  ...\n",
       "...                                                 ...\n",
       "5497  |    52706 | Order Finished  | Paul Prost     ...\n",
       "5498  |    54279 | Order Finished  | Lisa DeCherney ...\n",
       "5499  |    55558 | Order Finished  | Philip Brown   ...\n",
       "5500  |    56581 | Order Finished  | Lisa DeCherney ...\n",
       "5501  +----------+-----------------+----------------...\n",
       "\n",
       "[5502 rows x 1 columns]"
      ]
     },
     "execution_count": 288,
     "metadata": {},
     "output_type": "execute_result"
    }
   ],
   "source": [
    "df"
   ]
  },
  {
   "cell_type": "code",
   "execution_count": 289,
   "id": "787ec1f4-c84c-4633-b8fc-4418c7edae39",
   "metadata": {},
   "outputs": [],
   "source": [
    "df = df['combined_a'].str.split(\"|\",expand=True)"
   ]
  },
  {
   "cell_type": "code",
   "execution_count": 290,
   "id": "f5dd9b8e-3b2c-4578-a9f8-5414a2921aae",
   "metadata": {},
   "outputs": [],
   "source": [
    "df = df.drop(11,axis=1)"
   ]
  },
  {
   "cell_type": "code",
   "execution_count": 291,
   "id": "9e505265-4755-4b1c-ab7d-f8693d8e025f",
   "metadata": {},
   "outputs": [
    {
     "data": {
      "text/html": [
       "<div>\n",
       "<style scoped>\n",
       "    .dataframe tbody tr th:only-of-type {\n",
       "        vertical-align: middle;\n",
       "    }\n",
       "\n",
       "    .dataframe tbody tr th {\n",
       "        vertical-align: top;\n",
       "    }\n",
       "\n",
       "    .dataframe thead th {\n",
       "        text-align: right;\n",
       "    }\n",
       "</style>\n",
       "<table border=\"1\" class=\"dataframe\">\n",
       "  <thead>\n",
       "    <tr style=\"text-align: right;\">\n",
       "      <th></th>\n",
       "      <th>order_id</th>\n",
       "      <th>order_status</th>\n",
       "      <th>customer</th>\n",
       "      <th>order_date</th>\n",
       "      <th>order_quantity</th>\n",
       "      <th>sales</th>\n",
       "      <th>discount</th>\n",
       "      <th>discount_value</th>\n",
       "      <th>product_category</th>\n",
       "      <th>product_sub_category</th>\n",
       "    </tr>\n",
       "  </thead>\n",
       "  <tbody>\n",
       "  </tbody>\n",
       "</table>\n",
       "</div>"
      ],
      "text/plain": [
       "Empty DataFrame\n",
       "Columns: [order_id, order_status, customer, order_date, order_quantity, sales, discount, discount_value, product_category, product_sub_category]\n",
       "Index: []"
      ]
     },
     "execution_count": 291,
     "metadata": {},
     "output_type": "execute_result"
    }
   ],
   "source": [
    "new_col = list(filter(lambda x : x != \"\",list(df.iloc[0].str.strip())))\n",
    "new_df = pd.DataFrame(columns=new_col)\n",
    "new_df"
   ]
  },
  {
   "cell_type": "code",
   "execution_count": 292,
   "id": "e400af3b-0956-4be0-8ca4-ffb85534c31b",
   "metadata": {},
   "outputs": [],
   "source": [
    "drop_rows = [0,1,len(df) - 1]\n",
    "df = df.drop(drop_rows, axis = 0)"
   ]
  },
  {
   "cell_type": "code",
   "execution_count": 293,
   "id": "3256682f-8cc9-42bf-bdec-86ab101fb83e",
   "metadata": {},
   "outputs": [],
   "source": [
    "df = df.drop(0,axis = 1)"
   ]
  },
  {
   "cell_type": "code",
   "execution_count": 294,
   "id": "cd0c51d3-7f45-4611-b9a0-2d68b9d300d6",
   "metadata": {},
   "outputs": [],
   "source": [
    "col_len = len(new_df.columns)\n",
    "\n",
    "for i in range(col_len):\n",
    "    new_df.iloc[:,i] = df.iloc[:,[i]]"
   ]
  },
  {
   "cell_type": "code",
   "execution_count": 295,
   "id": "7524d75b-5b3e-4dfc-88b5-32a9f73b0ef4",
   "metadata": {},
   "outputs": [],
   "source": [
    "new_df['sales'] = new_df['sales'].astype(int)"
   ]
  },
  {
   "cell_type": "code",
   "execution_count": 296,
   "id": "ea891101-02be-461b-a542-f6c7cf130037",
   "metadata": {},
   "outputs": [],
   "source": [
    "new_df['new_discount'] = new_df['discount'].astype(float) * 100\n",
    "new_df['discount'] = new_df['new_discount'].astype('int16')\n",
    "new_df = new_df.drop(\"new_discount\",axis=1)"
   ]
  },
  {
   "cell_type": "code",
   "execution_count": 297,
   "id": "68aa3279-fa3a-4574-8d8d-685653c18435",
   "metadata": {},
   "outputs": [],
   "source": [
    "new_df['order_quantity'] = new_df['order_quantity'].astype('int16')"
   ]
  },
  {
   "cell_type": "code",
   "execution_count": 298,
   "id": "129ce929-60e6-48a8-9205-319bbd5c2d4b",
   "metadata": {},
   "outputs": [],
   "source": [
    "new_df['order_date'] = pd.to_datetime(new_df['order_date'])"
   ]
  },
  {
   "cell_type": "code",
   "execution_count": 299,
   "id": "42bcd70a-ecbd-4559-8022-11dea1758a8a",
   "metadata": {},
   "outputs": [
    {
     "data": {
      "text/plain": [
       "2       Wednesday\n",
       "3          Monday\n",
       "4          Sunday\n",
       "5        Saturday\n",
       "6          Friday\n",
       "          ...    \n",
       "5496       Friday\n",
       "5497       Monday\n",
       "5498     Saturday\n",
       "5499       Monday\n",
       "5500       Sunday\n",
       "Name: order_date, Length: 5499, dtype: object"
      ]
     },
     "execution_count": 299,
     "metadata": {},
     "output_type": "execute_result"
    }
   ],
   "source": [
    "new_df['order_date'].dt.year\n",
    "new_df['order_date'].dt.day\n",
    "new_df['order_date'].dt.month\n",
    "new_df['order_date'].dt.hour\n",
    "new_df['order_date'].dt.day_name()"
   ]
  },
  {
   "cell_type": "code",
   "execution_count": 300,
   "id": "bc7c56f7-ff0d-4930-9f99-46164c2228ae",
   "metadata": {},
   "outputs": [],
   "source": [
    "new_df.to_excel('output.xlsx', index=False)"
   ]
  }
 ],
 "metadata": {
  "kernelspec": {
   "display_name": "Python 3 (ipykernel)",
   "language": "python",
   "name": "python3"
  },
  "language_info": {
   "codemirror_mode": {
    "name": "ipython",
    "version": 3
   },
   "file_extension": ".py",
   "mimetype": "text/x-python",
   "name": "python",
   "nbconvert_exporter": "python",
   "pygments_lexer": "ipython3",
   "version": "3.13.7"
  }
 },
 "nbformat": 4,
 "nbformat_minor": 5
}
